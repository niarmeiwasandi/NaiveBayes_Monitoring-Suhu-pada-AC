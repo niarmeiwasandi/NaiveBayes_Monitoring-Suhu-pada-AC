{
 "cells": [
  {
   "cell_type": "markdown",
   "id": "79a306f2",
   "metadata": {},
   "source": [
    "## BAB 1 - Mengumpulkan Data "
   ]
  },
  {
   "cell_type": "code",
   "execution_count": 1,
   "id": "de5ead47",
   "metadata": {},
   "outputs": [],
   "source": [
    "import pandas as pd\n",
    "import seaborn as sns\n",
    "import matplotlib.pyplot as plt\n",
    "import numpy as np\n",
    "import missingno as msno\n",
    "\n",
    "from sklearn.model_selection import train_test_split\n",
    "\n",
    "from sklearn.decomposition import PCA\n",
    "\n",
    "from sklearn.pipeline import Pipeline\n",
    "from sklearn.tree import DecisionTreeClassifier\n",
    "from sklearn.model_selection import GridSearchCV\n",
    "\n",
    "from sklearn.preprocessing import StandardScaler\n",
    "\n",
    "from sklearn.metrics import accuracy_score\n",
    "from sklearn.metrics import precision_score\n",
    "from sklearn.metrics import recall_score\n",
    "from sklearn.metrics import f1_score\n",
    "\n",
    "from sklearn.metrics import confusion_matrix"
   ]
  },
  {
   "cell_type": "code",
   "execution_count": 2,
   "id": "dbc4b53c",
   "metadata": {},
   "outputs": [],
   "source": [
    "pd.set_option('display.max_columns', None) #melihat semua kolom"
   ]
  },
  {
   "cell_type": "code",
   "execution_count": 3,
   "id": "024f2253",
   "metadata": {},
   "outputs": [
    {
     "data": {
      "text/html": [
       "<div>\n",
       "<style scoped>\n",
       "    .dataframe tbody tr th:only-of-type {\n",
       "        vertical-align: middle;\n",
       "    }\n",
       "\n",
       "    .dataframe tbody tr th {\n",
       "        vertical-align: top;\n",
       "    }\n",
       "\n",
       "    .dataframe thead th {\n",
       "        text-align: right;\n",
       "    }\n",
       "</style>\n",
       "<table border=\"1\" class=\"dataframe\">\n",
       "  <thead>\n",
       "    <tr style=\"text-align: right;\">\n",
       "      <th></th>\n",
       "      <th>id</th>\n",
       "      <th>room_id/id</th>\n",
       "      <th>day</th>\n",
       "      <th>date</th>\n",
       "      <th>temp</th>\n",
       "      <th>Strong/Weak</th>\n",
       "    </tr>\n",
       "  </thead>\n",
       "  <tbody>\n",
       "    <tr>\n",
       "      <th>0</th>\n",
       "      <td>__export__.temp_log_196134_bd201015</td>\n",
       "      <td>Room Admin</td>\n",
       "      <td>Sabtu</td>\n",
       "      <td>8-12-2018</td>\n",
       "      <td>29</td>\n",
       "      <td>Weak</td>\n",
       "    </tr>\n",
       "    <tr>\n",
       "      <th>1</th>\n",
       "      <td>__export__.temp_log_196131_7bca51bc</td>\n",
       "      <td>Room Admin</td>\n",
       "      <td>Sabtu</td>\n",
       "      <td>8-12-2018</td>\n",
       "      <td>29</td>\n",
       "      <td>Weak</td>\n",
       "    </tr>\n",
       "    <tr>\n",
       "      <th>2</th>\n",
       "      <td>__export__.temp_log_196127_522915e3</td>\n",
       "      <td>Room Admin</td>\n",
       "      <td>Sabtu</td>\n",
       "      <td>8-12-2018</td>\n",
       "      <td>41</td>\n",
       "      <td>Strong</td>\n",
       "    </tr>\n",
       "    <tr>\n",
       "      <th>3</th>\n",
       "      <td>__export__.temp_log_196128_be0919cf</td>\n",
       "      <td>Room Admin</td>\n",
       "      <td>Sabtu</td>\n",
       "      <td>8-12-2018</td>\n",
       "      <td>41</td>\n",
       "      <td>Strong</td>\n",
       "    </tr>\n",
       "    <tr>\n",
       "      <th>4</th>\n",
       "      <td>__export__.temp_log_196126_d30b72fb</td>\n",
       "      <td>Room Admin</td>\n",
       "      <td>Sabtu</td>\n",
       "      <td>8-12-2018</td>\n",
       "      <td>31</td>\n",
       "      <td>Weak</td>\n",
       "    </tr>\n",
       "    <tr>\n",
       "      <th>...</th>\n",
       "      <td>...</td>\n",
       "      <td>...</td>\n",
       "      <td>...</td>\n",
       "      <td>...</td>\n",
       "      <td>...</td>\n",
       "      <td>...</td>\n",
       "    </tr>\n",
       "    <tr>\n",
       "      <th>5197</th>\n",
       "      <td>__export__.temp_log_178604_a7bc3600</td>\n",
       "      <td>Room Admin</td>\n",
       "      <td>Selasa</td>\n",
       "      <td>4-12-2018</td>\n",
       "      <td>35</td>\n",
       "      <td>Strong</td>\n",
       "    </tr>\n",
       "    <tr>\n",
       "      <th>5198</th>\n",
       "      <td>__export__.temp_log_178602_f93a5750</td>\n",
       "      <td>Room Admin</td>\n",
       "      <td>Selasa</td>\n",
       "      <td>4-12-2018</td>\n",
       "      <td>36</td>\n",
       "      <td>Strong</td>\n",
       "    </tr>\n",
       "    <tr>\n",
       "      <th>5199</th>\n",
       "      <td>__export__.temp_log_178603_7efb0bd2</td>\n",
       "      <td>Room Admin</td>\n",
       "      <td>Selasa</td>\n",
       "      <td>4-12-2018</td>\n",
       "      <td>36</td>\n",
       "      <td>Strong</td>\n",
       "    </tr>\n",
       "    <tr>\n",
       "      <th>5200</th>\n",
       "      <td>__export__.temp_log_178599_1177d806</td>\n",
       "      <td>Room Admin</td>\n",
       "      <td>Selasa</td>\n",
       "      <td>4-12-2018</td>\n",
       "      <td>36</td>\n",
       "      <td>Strong</td>\n",
       "    </tr>\n",
       "    <tr>\n",
       "      <th>5201</th>\n",
       "      <td>__export__.temp_log_178598_5c6c8788</td>\n",
       "      <td>Room Admin</td>\n",
       "      <td>Selasa</td>\n",
       "      <td>4-12-2018</td>\n",
       "      <td>36</td>\n",
       "      <td>Strong</td>\n",
       "    </tr>\n",
       "  </tbody>\n",
       "</table>\n",
       "<p>5202 rows × 6 columns</p>\n",
       "</div>"
      ],
      "text/plain": [
       "                                       id  room_id/id     day       date   \n",
       "0     __export__.temp_log_196134_bd201015  Room Admin   Sabtu  8-12-2018  \\\n",
       "1     __export__.temp_log_196131_7bca51bc  Room Admin   Sabtu  8-12-2018   \n",
       "2     __export__.temp_log_196127_522915e3  Room Admin   Sabtu  8-12-2018   \n",
       "3     __export__.temp_log_196128_be0919cf  Room Admin   Sabtu  8-12-2018   \n",
       "4     __export__.temp_log_196126_d30b72fb  Room Admin   Sabtu  8-12-2018   \n",
       "...                                   ...         ...     ...        ...   \n",
       "5197  __export__.temp_log_178604_a7bc3600  Room Admin  Selasa  4-12-2018   \n",
       "5198  __export__.temp_log_178602_f93a5750  Room Admin  Selasa  4-12-2018   \n",
       "5199  __export__.temp_log_178603_7efb0bd2  Room Admin  Selasa  4-12-2018   \n",
       "5200  __export__.temp_log_178599_1177d806  Room Admin  Selasa  4-12-2018   \n",
       "5201  __export__.temp_log_178598_5c6c8788  Room Admin  Selasa  4-12-2018   \n",
       "\n",
       "      temp Strong/Weak  \n",
       "0       29        Weak  \n",
       "1       29        Weak  \n",
       "2       41      Strong  \n",
       "3       41      Strong  \n",
       "4       31        Weak  \n",
       "...    ...         ...  \n",
       "5197    35      Strong  \n",
       "5198    36      Strong  \n",
       "5199    36      Strong  \n",
       "5200    36      Strong  \n",
       "5201    36      Strong  \n",
       "\n",
       "[5202 rows x 6 columns]"
      ]
     },
     "execution_count": 3,
     "metadata": {},
     "output_type": "execute_result"
    }
   ],
   "source": [
    "#dataset = pd.read_csv('/content/drive/My Drive/Colab Notebooks/crx.data')\n",
    "dataset = pd.read_csv('IOT-Temp.csv')\n",
    "dataset"
   ]
  },
  {
   "cell_type": "markdown",
   "id": "065b4f2d",
   "metadata": {},
   "source": [
    "## BAB 2 - Menelaah Data"
   ]
  },
  {
   "cell_type": "markdown",
   "id": "b84d1b68",
   "metadata": {},
   "source": [
    "### Analisis Karakteristik Data"
   ]
  },
  {
   "cell_type": "code",
   "execution_count": 4,
   "id": "7f3a405b",
   "metadata": {},
   "outputs": [
    {
     "name": "stdout",
     "output_type": "stream",
     "text": [
      "<class 'pandas.core.frame.DataFrame'>\n",
      "RangeIndex: 5202 entries, 0 to 5201\n",
      "Data columns (total 6 columns):\n",
      " #   Column       Non-Null Count  Dtype \n",
      "---  ------       --------------  ----- \n",
      " 0   id           5202 non-null   object\n",
      " 1   room_id/id   5202 non-null   object\n",
      " 2   day          5202 non-null   object\n",
      " 3   date         5202 non-null   object\n",
      " 4   temp         5202 non-null   int64 \n",
      " 5   Strong/Weak  5202 non-null   object\n",
      "dtypes: int64(1), object(5)\n",
      "memory usage: 244.0+ KB\n"
     ]
    }
   ],
   "source": [
    "dataset.info()"
   ]
  },
  {
   "cell_type": "code",
   "execution_count": 5,
   "id": "1a4ed46e",
   "metadata": {},
   "outputs": [
    {
     "data": {
      "text/html": [
       "<div>\n",
       "<style scoped>\n",
       "    .dataframe tbody tr th:only-of-type {\n",
       "        vertical-align: middle;\n",
       "    }\n",
       "\n",
       "    .dataframe tbody tr th {\n",
       "        vertical-align: top;\n",
       "    }\n",
       "\n",
       "    .dataframe thead th {\n",
       "        text-align: right;\n",
       "    }\n",
       "</style>\n",
       "<table border=\"1\" class=\"dataframe\">\n",
       "  <thead>\n",
       "    <tr style=\"text-align: right;\">\n",
       "      <th></th>\n",
       "      <th>id</th>\n",
       "      <th>room_id/id</th>\n",
       "      <th>day</th>\n",
       "      <th>date</th>\n",
       "      <th>temp</th>\n",
       "      <th>Strong/Weak</th>\n",
       "    </tr>\n",
       "  </thead>\n",
       "  <tbody>\n",
       "    <tr>\n",
       "      <th>0</th>\n",
       "      <td>__export__.temp_log_196134_bd201015</td>\n",
       "      <td>Room Admin</td>\n",
       "      <td>Sabtu</td>\n",
       "      <td>8-12-2018</td>\n",
       "      <td>29</td>\n",
       "      <td>Weak</td>\n",
       "    </tr>\n",
       "    <tr>\n",
       "      <th>1</th>\n",
       "      <td>__export__.temp_log_196131_7bca51bc</td>\n",
       "      <td>Room Admin</td>\n",
       "      <td>Sabtu</td>\n",
       "      <td>8-12-2018</td>\n",
       "      <td>29</td>\n",
       "      <td>Weak</td>\n",
       "    </tr>\n",
       "    <tr>\n",
       "      <th>2</th>\n",
       "      <td>__export__.temp_log_196127_522915e3</td>\n",
       "      <td>Room Admin</td>\n",
       "      <td>Sabtu</td>\n",
       "      <td>8-12-2018</td>\n",
       "      <td>41</td>\n",
       "      <td>Strong</td>\n",
       "    </tr>\n",
       "    <tr>\n",
       "      <th>3</th>\n",
       "      <td>__export__.temp_log_196128_be0919cf</td>\n",
       "      <td>Room Admin</td>\n",
       "      <td>Sabtu</td>\n",
       "      <td>8-12-2018</td>\n",
       "      <td>41</td>\n",
       "      <td>Strong</td>\n",
       "    </tr>\n",
       "    <tr>\n",
       "      <th>4</th>\n",
       "      <td>__export__.temp_log_196126_d30b72fb</td>\n",
       "      <td>Room Admin</td>\n",
       "      <td>Sabtu</td>\n",
       "      <td>8-12-2018</td>\n",
       "      <td>31</td>\n",
       "      <td>Weak</td>\n",
       "    </tr>\n",
       "  </tbody>\n",
       "</table>\n",
       "</div>"
      ],
      "text/plain": [
       "                                    id  room_id/id    day       date  temp   \n",
       "0  __export__.temp_log_196134_bd201015  Room Admin  Sabtu  8-12-2018    29  \\\n",
       "1  __export__.temp_log_196131_7bca51bc  Room Admin  Sabtu  8-12-2018    29   \n",
       "2  __export__.temp_log_196127_522915e3  Room Admin  Sabtu  8-12-2018    41   \n",
       "3  __export__.temp_log_196128_be0919cf  Room Admin  Sabtu  8-12-2018    41   \n",
       "4  __export__.temp_log_196126_d30b72fb  Room Admin  Sabtu  8-12-2018    31   \n",
       "\n",
       "  Strong/Weak  \n",
       "0        Weak  \n",
       "1        Weak  \n",
       "2      Strong  \n",
       "3      Strong  \n",
       "4        Weak  "
      ]
     },
     "execution_count": 5,
     "metadata": {},
     "output_type": "execute_result"
    }
   ],
   "source": [
    "dataset.head()"
   ]
  },
  {
   "cell_type": "code",
   "execution_count": 6,
   "id": "fe549d6b",
   "metadata": {},
   "outputs": [
    {
     "data": {
      "text/html": [
       "<div>\n",
       "<style scoped>\n",
       "    .dataframe tbody tr th:only-of-type {\n",
       "        vertical-align: middle;\n",
       "    }\n",
       "\n",
       "    .dataframe tbody tr th {\n",
       "        vertical-align: top;\n",
       "    }\n",
       "\n",
       "    .dataframe thead th {\n",
       "        text-align: right;\n",
       "    }\n",
       "</style>\n",
       "<table border=\"1\" class=\"dataframe\">\n",
       "  <thead>\n",
       "    <tr style=\"text-align: right;\">\n",
       "      <th></th>\n",
       "      <th>id</th>\n",
       "      <th>room_id/id</th>\n",
       "      <th>day</th>\n",
       "      <th>date</th>\n",
       "      <th>temp</th>\n",
       "      <th>Strong/Weak</th>\n",
       "    </tr>\n",
       "  </thead>\n",
       "  <tbody>\n",
       "    <tr>\n",
       "      <th>5197</th>\n",
       "      <td>__export__.temp_log_178604_a7bc3600</td>\n",
       "      <td>Room Admin</td>\n",
       "      <td>Selasa</td>\n",
       "      <td>4-12-2018</td>\n",
       "      <td>35</td>\n",
       "      <td>Strong</td>\n",
       "    </tr>\n",
       "    <tr>\n",
       "      <th>5198</th>\n",
       "      <td>__export__.temp_log_178602_f93a5750</td>\n",
       "      <td>Room Admin</td>\n",
       "      <td>Selasa</td>\n",
       "      <td>4-12-2018</td>\n",
       "      <td>36</td>\n",
       "      <td>Strong</td>\n",
       "    </tr>\n",
       "    <tr>\n",
       "      <th>5199</th>\n",
       "      <td>__export__.temp_log_178603_7efb0bd2</td>\n",
       "      <td>Room Admin</td>\n",
       "      <td>Selasa</td>\n",
       "      <td>4-12-2018</td>\n",
       "      <td>36</td>\n",
       "      <td>Strong</td>\n",
       "    </tr>\n",
       "    <tr>\n",
       "      <th>5200</th>\n",
       "      <td>__export__.temp_log_178599_1177d806</td>\n",
       "      <td>Room Admin</td>\n",
       "      <td>Selasa</td>\n",
       "      <td>4-12-2018</td>\n",
       "      <td>36</td>\n",
       "      <td>Strong</td>\n",
       "    </tr>\n",
       "    <tr>\n",
       "      <th>5201</th>\n",
       "      <td>__export__.temp_log_178598_5c6c8788</td>\n",
       "      <td>Room Admin</td>\n",
       "      <td>Selasa</td>\n",
       "      <td>4-12-2018</td>\n",
       "      <td>36</td>\n",
       "      <td>Strong</td>\n",
       "    </tr>\n",
       "  </tbody>\n",
       "</table>\n",
       "</div>"
      ],
      "text/plain": [
       "                                       id  room_id/id     day       date   \n",
       "5197  __export__.temp_log_178604_a7bc3600  Room Admin  Selasa  4-12-2018  \\\n",
       "5198  __export__.temp_log_178602_f93a5750  Room Admin  Selasa  4-12-2018   \n",
       "5199  __export__.temp_log_178603_7efb0bd2  Room Admin  Selasa  4-12-2018   \n",
       "5200  __export__.temp_log_178599_1177d806  Room Admin  Selasa  4-12-2018   \n",
       "5201  __export__.temp_log_178598_5c6c8788  Room Admin  Selasa  4-12-2018   \n",
       "\n",
       "      temp Strong/Weak  \n",
       "5197    35      Strong  \n",
       "5198    36      Strong  \n",
       "5199    36      Strong  \n",
       "5200    36      Strong  \n",
       "5201    36      Strong  "
      ]
     },
     "execution_count": 6,
     "metadata": {},
     "output_type": "execute_result"
    }
   ],
   "source": [
    "dataset.tail()"
   ]
  },
  {
   "cell_type": "code",
   "execution_count": 7,
   "id": "47fdabee",
   "metadata": {},
   "outputs": [
    {
     "name": "stdout",
     "output_type": "stream",
     "text": [
      "room_id/id : ['Room Admin']\n",
      "====================================\n",
      "day : ['Sabtu' 'Jumat' 'Kamis' 'Rabu' 'Selasa']\n",
      "====================================\n",
      "date : ['8-12-2018' '7-12-2018' '6-12-2018' '5-12-2018' '4-12-2018']\n",
      "====================================\n",
      "Strong/Weak : ['Weak' 'Strong']\n",
      "====================================\n"
     ]
    }
   ],
   "source": [
    "categorical_col = []\n",
    "for column in dataset.columns:\n",
    "    if dataset[column].dtype == object and len(dataset[column].unique()) <= 50: #mengecek level/isi data kolom (bisa object, int, dan tipe data lainnya)\n",
    "        categorical_col.append(column)\n",
    "        print(f\"{column} : {dataset[column].unique()}\")\n",
    "        print(\"====================================\")\n"
   ]
  },
  {
   "cell_type": "markdown",
   "id": "ff288889",
   "metadata": {},
   "source": [
    "### Cek Distribusi Kelas"
   ]
  },
  {
   "cell_type": "code",
   "execution_count": 8,
   "id": "9a3f16a3",
   "metadata": {},
   "outputs": [
    {
     "data": {
      "text/plain": [
       "Strong/Weak\n",
       "Strong    2962\n",
       "Weak      2240\n",
       "Name: count, dtype: int64"
      ]
     },
     "execution_count": 8,
     "metadata": {},
     "output_type": "execute_result"
    }
   ],
   "source": [
    "dataset['Strong/Weak'].value_counts()"
   ]
  },
  {
   "cell_type": "markdown",
   "id": "3cd06b86",
   "metadata": {},
   "source": [
    "#### Temuan : Kelas hampir seimbang"
   ]
  },
  {
   "cell_type": "code",
   "execution_count": 9,
   "id": "d45f9e02",
   "metadata": {},
   "outputs": [
    {
     "data": {
      "image/png": "[encoded data removed]",
      "text/plain": [
       "<Figure size 700x600 with 1 Axes>"
      ]
     },
     "metadata": {},
     "output_type": "display_data"
    }
   ],
   "source": [
    "sns.set(font_scale=1.4)\n",
    "dataset['Strong/Weak'].value_counts().plot(kind='bar', figsize=(7, 6), rot=0)\n",
    "plt.xlabel(\"Status Temperatur\", labelpad=14)\n",
    "plt.ylabel(\"Jumlah\", labelpad=14)\n",
    "plt.title(\"Status Temperatur\", y=1.02);"
   ]
  },
  {
   "cell_type": "markdown",
   "id": "0899bb2b",
   "metadata": {},
   "source": [
    "#### Temuan : Kelas seimbang"
   ]
  },
  {
   "cell_type": "code",
   "execution_count": null,
   "id": "c454ad4a",
   "metadata": {},
   "outputs": [],
   "source": [
    "plt.subplots(figsize = (15,5))\n",
    "sns.countplot(x=dataset['id'],order=dataset['id'].value_counts().index,hue=dataset['Strong/Weak'])\n",
    "plt.show()"
   ]
  },
  {
   "cell_type": "code",
   "execution_count": null,
   "id": "fbbf1a69",
   "metadata": {},
   "outputs": [],
   "source": [
    "plt.subplots(figsize = (35,5))\n",
    "sns.countplot(x=dataset['room_id/id'],order=dataset['room_id/id'].value_counts().index,hue=dataset['Strong/Weak'])\n",
    "plt.show()"
   ]
  },
  {
   "cell_type": "markdown",
   "id": "ce184aa0",
   "metadata": {},
   "source": [
    "#### Temuan : Strong lebih banyak di Ruang Admin"
   ]
  },
  {
   "cell_type": "code",
   "execution_count": null,
   "id": "4db02bd0",
   "metadata": {},
   "outputs": [],
   "source": [
    "plt.subplots(figsize = (15,5))\n",
    "sns.countplot(x=dataset['day'],order=dataset['day'].value_counts().index,hue=dataset['Strong/Weak'])\n",
    "plt.show()"
   ]
  },
  {
   "cell_type": "markdown",
   "id": "3be1ab3f",
   "metadata": {},
   "source": [
    "#### Temuan :\n",
    "#### Jumat dan Sabtu lebih banyak yang Weak\n",
    "#### Selasa, Kamis, dan Rabu lebih banyak yang Strong"
   ]
  },
  {
   "cell_type": "code",
   "execution_count": null,
   "id": "124ac043",
   "metadata": {},
   "outputs": [],
   "source": [
    "plt.subplots(figsize = (15,5))\n",
    "sns.countplot(x=dataset['date'],order=dataset['date'].value_counts().index,hue=dataset['Strong/Weak'])\n",
    "plt.show()"
   ]
  },
  {
   "cell_type": "markdown",
   "id": "4c12ce8b",
   "metadata": {},
   "source": [
    "#### Temuan : \n",
    "#### 7-12-2018 dan 8-12-2018 lebih banyak yang weak\n",
    "#### 4-12-2018, 6-12-2018, dan 5-12-2018 lebih banyak yang strong"
   ]
  },
  {
   "cell_type": "code",
   "execution_count": null,
   "id": "eddcfe03",
   "metadata": {},
   "outputs": [],
   "source": [
    "plt.subplots(figsize = (15,5))\n",
    "sns.countplot(x=dataset['temp'],order=dataset['temp'].value_counts().index,hue=dataset['Strong/Weak'])\n",
    "plt.show()"
   ]
  },
  {
   "cell_type": "markdown",
   "id": "69ab243f",
   "metadata": {},
   "source": [
    "#### Temuan : temp 30 dan 31 lebih banyak yang weak"
   ]
  },
  {
   "cell_type": "markdown",
   "id": "e95e2a09",
   "metadata": {},
   "source": [
    "### Cek Korelasi Tahap 1"
   ]
  },
  {
   "cell_type": "code",
   "execution_count": 10,
   "id": "9d973b6c",
   "metadata": {},
   "outputs": [
    {
     "ename": "ValueError",
     "evalue": "could not convert string to float: '__export__.temp_log_196134_bd201015'",
     "output_type": "error",
     "traceback": [
      "\u001b[1;31m---------------------------------------------------------------------------\u001b[0m",
      "\u001b[1;31mValueError\u001b[0m                                Traceback (most recent call last)",
      "Cell \u001b[1;32mIn[10], line 1\u001b[0m\n\u001b[1;32m----> 1\u001b[0m correlation \u001b[38;5;241m=\u001b[39m \u001b[43mdataset\u001b[49m\u001b[38;5;241;43m.\u001b[39;49m\u001b[43mcorr\u001b[49m\u001b[43m(\u001b[49m\u001b[43m)\u001b[49m\n\u001b[0;32m      2\u001b[0m plt\u001b[38;5;241m.\u001b[39msubplots(figsize \u001b[38;5;241m=\u001b[39m (\u001b[38;5;241m9\u001b[39m,\u001b[38;5;241m9\u001b[39m))\n\u001b[0;32m      3\u001b[0m sns\u001b[38;5;241m.\u001b[39mheatmap(correlation\u001b[38;5;241m.\u001b[39mround(\u001b[38;5;241m2\u001b[39m),\n\u001b[0;32m      4\u001b[0m             annot \u001b[38;5;241m=\u001b[39m \u001b[38;5;28;01mTrue\u001b[39;00m,\n\u001b[0;32m      5\u001b[0m             vmax \u001b[38;5;241m=\u001b[39m \u001b[38;5;241m1\u001b[39m,\n\u001b[0;32m      6\u001b[0m             square \u001b[38;5;241m=\u001b[39m \u001b[38;5;28;01mTrue\u001b[39;00m,\n\u001b[0;32m      7\u001b[0m             cmap \u001b[38;5;241m=\u001b[39m \u001b[38;5;124m'\u001b[39m\u001b[38;5;124mRdYlGn_r\u001b[39m\u001b[38;5;124m'\u001b[39m)\n",
      "File \u001b[1;32mC:\\a-dev\\env\\lib\\site-packages\\pandas\\core\\frame.py:10059\u001b[0m, in \u001b[0;36mDataFrame.corr\u001b[1;34m(self, method, min_periods, numeric_only)\u001b[0m\n\u001b[0;32m  10057\u001b[0m cols \u001b[38;5;241m=\u001b[39m data\u001b[38;5;241m.\u001b[39mcolumns\n\u001b[0;32m  10058\u001b[0m idx \u001b[38;5;241m=\u001b[39m cols\u001b[38;5;241m.\u001b[39mcopy()\n\u001b[1;32m> 10059\u001b[0m mat \u001b[38;5;241m=\u001b[39m \u001b[43mdata\u001b[49m\u001b[38;5;241;43m.\u001b[39;49m\u001b[43mto_numpy\u001b[49m\u001b[43m(\u001b[49m\u001b[43mdtype\u001b[49m\u001b[38;5;241;43m=\u001b[39;49m\u001b[38;5;28;43mfloat\u001b[39;49m\u001b[43m,\u001b[49m\u001b[43m \u001b[49m\u001b[43mna_value\u001b[49m\u001b[38;5;241;43m=\u001b[39;49m\u001b[43mnp\u001b[49m\u001b[38;5;241;43m.\u001b[39;49m\u001b[43mnan\u001b[49m\u001b[43m,\u001b[49m\u001b[43m \u001b[49m\u001b[43mcopy\u001b[49m\u001b[38;5;241;43m=\u001b[39;49m\u001b[38;5;28;43;01mFalse\u001b[39;49;00m\u001b[43m)\u001b[49m\n\u001b[0;32m  10061\u001b[0m \u001b[38;5;28;01mif\u001b[39;00m method \u001b[38;5;241m==\u001b[39m \u001b[38;5;124m\"\u001b[39m\u001b[38;5;124mpearson\u001b[39m\u001b[38;5;124m\"\u001b[39m:\n\u001b[0;32m  10062\u001b[0m     correl \u001b[38;5;241m=\u001b[39m libalgos\u001b[38;5;241m.\u001b[39mnancorr(mat, minp\u001b[38;5;241m=\u001b[39mmin_periods)\n",
      "File \u001b[1;32mC:\\a-dev\\env\\lib\\site-packages\\pandas\\core\\frame.py:1838\u001b[0m, in \u001b[0;36mDataFrame.to_numpy\u001b[1;34m(self, dtype, copy, na_value)\u001b[0m\n\u001b[0;32m   1836\u001b[0m \u001b[38;5;28;01mif\u001b[39;00m dtype \u001b[38;5;129;01mis\u001b[39;00m \u001b[38;5;129;01mnot\u001b[39;00m \u001b[38;5;28;01mNone\u001b[39;00m:\n\u001b[0;32m   1837\u001b[0m     dtype \u001b[38;5;241m=\u001b[39m np\u001b[38;5;241m.\u001b[39mdtype(dtype)\n\u001b[1;32m-> 1838\u001b[0m result \u001b[38;5;241m=\u001b[39m \u001b[38;5;28;43mself\u001b[39;49m\u001b[38;5;241;43m.\u001b[39;49m\u001b[43m_mgr\u001b[49m\u001b[38;5;241;43m.\u001b[39;49m\u001b[43mas_array\u001b[49m\u001b[43m(\u001b[49m\u001b[43mdtype\u001b[49m\u001b[38;5;241;43m=\u001b[39;49m\u001b[43mdtype\u001b[49m\u001b[43m,\u001b[49m\u001b[43m \u001b[49m\u001b[43mcopy\u001b[49m\u001b[38;5;241;43m=\u001b[39;49m\u001b[43mcopy\u001b[49m\u001b[43m,\u001b[49m\u001b[43m \u001b[49m\u001b[43mna_value\u001b[49m\u001b[38;5;241;43m=\u001b[39;49m\u001b[43mna_value\u001b[49m\u001b[43m)\u001b[49m\n\u001b[0;32m   1839\u001b[0m \u001b[38;5;28;01mif\u001b[39;00m result\u001b[38;5;241m.\u001b[39mdtype \u001b[38;5;129;01mis\u001b[39;00m \u001b[38;5;129;01mnot\u001b[39;00m dtype:\n\u001b[0;32m   1840\u001b[0m     result \u001b[38;5;241m=\u001b[39m np\u001b[38;5;241m.\u001b[39marray(result, dtype\u001b[38;5;241m=\u001b[39mdtype, copy\u001b[38;5;241m=\u001b[39m\u001b[38;5;28;01mFalse\u001b[39;00m)\n",
      "File \u001b[1;32mC:\\a-dev\\env\\lib\\site-packages\\pandas\\core\\internals\\managers.py:1732\u001b[0m, in \u001b[0;36mBlockManager.as_array\u001b[1;34m(self, dtype, copy, na_value)\u001b[0m\n\u001b[0;32m   1730\u001b[0m         arr\u001b[38;5;241m.\u001b[39mflags\u001b[38;5;241m.\u001b[39mwriteable \u001b[38;5;241m=\u001b[39m \u001b[38;5;28;01mFalse\u001b[39;00m\n\u001b[0;32m   1731\u001b[0m \u001b[38;5;28;01melse\u001b[39;00m:\n\u001b[1;32m-> 1732\u001b[0m     arr \u001b[38;5;241m=\u001b[39m \u001b[38;5;28;43mself\u001b[39;49m\u001b[38;5;241;43m.\u001b[39;49m\u001b[43m_interleave\u001b[49m\u001b[43m(\u001b[49m\u001b[43mdtype\u001b[49m\u001b[38;5;241;43m=\u001b[39;49m\u001b[43mdtype\u001b[49m\u001b[43m,\u001b[49m\u001b[43m \u001b[49m\u001b[43mna_value\u001b[49m\u001b[38;5;241;43m=\u001b[39;49m\u001b[43mna_value\u001b[49m\u001b[43m)\u001b[49m\n\u001b[0;32m   1733\u001b[0m     \u001b[38;5;66;03m# The underlying data was copied within _interleave, so no need\u001b[39;00m\n\u001b[0;32m   1734\u001b[0m     \u001b[38;5;66;03m# to further copy if copy=True or setting na_value\u001b[39;00m\n\u001b[0;32m   1736\u001b[0m \u001b[38;5;28;01mif\u001b[39;00m na_value \u001b[38;5;129;01mis\u001b[39;00m \u001b[38;5;129;01mnot\u001b[39;00m lib\u001b[38;5;241m.\u001b[39mno_default:\n",
      "File \u001b[1;32mC:\\a-dev\\env\\lib\\site-packages\\pandas\\core\\internals\\managers.py:1794\u001b[0m, in \u001b[0;36mBlockManager._interleave\u001b[1;34m(self, dtype, na_value)\u001b[0m\n\u001b[0;32m   1792\u001b[0m     \u001b[38;5;28;01melse\u001b[39;00m:\n\u001b[0;32m   1793\u001b[0m         arr \u001b[38;5;241m=\u001b[39m blk\u001b[38;5;241m.\u001b[39mget_values(dtype)\n\u001b[1;32m-> 1794\u001b[0m     \u001b[43mresult\u001b[49m\u001b[43m[\u001b[49m\u001b[43mrl\u001b[49m\u001b[38;5;241;43m.\u001b[39;49m\u001b[43mindexer\u001b[49m\u001b[43m]\u001b[49m \u001b[38;5;241m=\u001b[39m arr\n\u001b[0;32m   1795\u001b[0m     itemmask[rl\u001b[38;5;241m.\u001b[39mindexer] \u001b[38;5;241m=\u001b[39m \u001b[38;5;241m1\u001b[39m\n\u001b[0;32m   1797\u001b[0m \u001b[38;5;28;01mif\u001b[39;00m \u001b[38;5;129;01mnot\u001b[39;00m itemmask\u001b[38;5;241m.\u001b[39mall():\n",
      "\u001b[1;31mValueError\u001b[0m: could not convert string to float: '__export__.temp_log_196134_bd201015'"
     ]
    }
   ],
   "source": [
    "correlation = dataset.corr()\n",
    "plt.subplots(figsize = (9,9))\n",
    "sns.heatmap(correlation.round(2),\n",
    "            annot = True,\n",
    "            vmax = 1,\n",
    "            square = True,\n",
    "            cmap = 'RdYlGn_r')\n",
    "plt.show()"
   ]
  },
  {
   "cell_type": "code",
   "execution_count": 10,
   "id": "98eb8111",
   "metadata": {},
   "outputs": [],
   "source": [
    "from sklearn.preprocessing import LabelEncoder\n",
    "le = LabelEncoder()\n",
    "dataset[\"id\"] = le.fit_transform(dataset[\"id\"])\n",
    "dataset[\"room_id/id\"] = le.fit_transform(dataset[\"room_id/id\"])\n",
    "dataset[\"day\"] = le.fit_transform(dataset[\"day\"])\n",
    "dataset[\"date\"] = le.fit_transform(dataset[\"date\"])\n",
    "dataset[\"Strong/Weak\"] = le.fit_transform(dataset[\"Strong/Weak\"])"
   ]
  },
  {
   "cell_type": "code",
   "execution_count": 11,
   "id": "c3a5fade",
   "metadata": {},
   "outputs": [
    {
     "data": {
      "text/html": [
       "<div>\n",
       "<style scoped>\n",
       "    .dataframe tbody tr th:only-of-type {\n",
       "        vertical-align: middle;\n",
       "    }\n",
       "\n",
       "    .dataframe tbody tr th {\n",
       "        vertical-align: top;\n",
       "    }\n",
       "\n",
       "    .dataframe thead th {\n",
       "        text-align: right;\n",
       "    }\n",
       "</style>\n",
       "<table border=\"1\" class=\"dataframe\">\n",
       "  <thead>\n",
       "    <tr style=\"text-align: right;\">\n",
       "      <th></th>\n",
       "      <th>id</th>\n",
       "      <th>room_id/id</th>\n",
       "      <th>day</th>\n",
       "      <th>date</th>\n",
       "      <th>temp</th>\n",
       "      <th>Strong/Weak</th>\n",
       "    </tr>\n",
       "  </thead>\n",
       "  <tbody>\n",
       "    <tr>\n",
       "      <th>0</th>\n",
       "      <td>5200</td>\n",
       "      <td>0</td>\n",
       "      <td>3</td>\n",
       "      <td>4</td>\n",
       "      <td>29</td>\n",
       "      <td>1</td>\n",
       "    </tr>\n",
       "    <tr>\n",
       "      <th>1</th>\n",
       "      <td>5199</td>\n",
       "      <td>0</td>\n",
       "      <td>3</td>\n",
       "      <td>4</td>\n",
       "      <td>29</td>\n",
       "      <td>1</td>\n",
       "    </tr>\n",
       "    <tr>\n",
       "      <th>2</th>\n",
       "      <td>5197</td>\n",
       "      <td>0</td>\n",
       "      <td>3</td>\n",
       "      <td>4</td>\n",
       "      <td>41</td>\n",
       "      <td>0</td>\n",
       "    </tr>\n",
       "    <tr>\n",
       "      <th>3</th>\n",
       "      <td>5198</td>\n",
       "      <td>0</td>\n",
       "      <td>3</td>\n",
       "      <td>4</td>\n",
       "      <td>41</td>\n",
       "      <td>0</td>\n",
       "    </tr>\n",
       "    <tr>\n",
       "      <th>4</th>\n",
       "      <td>5196</td>\n",
       "      <td>0</td>\n",
       "      <td>3</td>\n",
       "      <td>4</td>\n",
       "      <td>31</td>\n",
       "      <td>1</td>\n",
       "    </tr>\n",
       "    <tr>\n",
       "      <th>...</th>\n",
       "      <td>...</td>\n",
       "      <td>...</td>\n",
       "      <td>...</td>\n",
       "      <td>...</td>\n",
       "      <td>...</td>\n",
       "      <td>...</td>\n",
       "    </tr>\n",
       "    <tr>\n",
       "      <th>5197</th>\n",
       "      <td>4</td>\n",
       "      <td>0</td>\n",
       "      <td>4</td>\n",
       "      <td>0</td>\n",
       "      <td>35</td>\n",
       "      <td>0</td>\n",
       "    </tr>\n",
       "    <tr>\n",
       "      <th>5198</th>\n",
       "      <td>2</td>\n",
       "      <td>0</td>\n",
       "      <td>4</td>\n",
       "      <td>0</td>\n",
       "      <td>36</td>\n",
       "      <td>0</td>\n",
       "    </tr>\n",
       "    <tr>\n",
       "      <th>5199</th>\n",
       "      <td>3</td>\n",
       "      <td>0</td>\n",
       "      <td>4</td>\n",
       "      <td>0</td>\n",
       "      <td>36</td>\n",
       "      <td>0</td>\n",
       "    </tr>\n",
       "    <tr>\n",
       "      <th>5200</th>\n",
       "      <td>1</td>\n",
       "      <td>0</td>\n",
       "      <td>4</td>\n",
       "      <td>0</td>\n",
       "      <td>36</td>\n",
       "      <td>0</td>\n",
       "    </tr>\n",
       "    <tr>\n",
       "      <th>5201</th>\n",
       "      <td>0</td>\n",
       "      <td>0</td>\n",
       "      <td>4</td>\n",
       "      <td>0</td>\n",
       "      <td>36</td>\n",
       "      <td>0</td>\n",
       "    </tr>\n",
       "  </tbody>\n",
       "</table>\n",
       "<p>5202 rows × 6 columns</p>\n",
       "</div>"
      ],
      "text/plain": [
       "        id  room_id/id  day  date  temp  Strong/Weak\n",
       "0     5200           0    3     4    29            1\n",
       "1     5199           0    3     4    29            1\n",
       "2     5197           0    3     4    41            0\n",
       "3     5198           0    3     4    41            0\n",
       "4     5196           0    3     4    31            1\n",
       "...    ...         ...  ...   ...   ...          ...\n",
       "5197     4           0    4     0    35            0\n",
       "5198     2           0    4     0    36            0\n",
       "5199     3           0    4     0    36            0\n",
       "5200     1           0    4     0    36            0\n",
       "5201     0           0    4     0    36            0\n",
       "\n",
       "[5202 rows x 6 columns]"
      ]
     },
     "execution_count": 11,
     "metadata": {},
     "output_type": "execute_result"
    }
   ],
   "source": [
    "dataset"
   ]
  },
  {
   "cell_type": "code",
   "execution_count": 12,
   "id": "b18d4b93",
   "metadata": {},
   "outputs": [
    {
     "data": {
      "image/png": "[encoded data removed]",
      "text/plain": [
       "<Figure size 900x900 with 2 Axes>"
      ]
     },
     "metadata": {},
     "output_type": "display_data"
    }
   ],
   "source": [
    "correlation = dataset.corr()\n",
    "plt.subplots(figsize = (9,9))\n",
    "sns.heatmap(correlation.round(2),\n",
    "            annot = True,\n",
    "            vmax = 1,\n",
    "            square = True,\n",
    "            cmap = 'RdYlGn_r')\n",
    "plt.show()"
   ]
  },
  {
   "cell_type": "markdown",
   "id": "15cb7889",
   "metadata": {},
   "source": [
    "## Bab 4 - Menentukan Objek Data"
   ]
  },
  {
   "cell_type": "markdown",
   "id": "7a3e3261",
   "metadata": {},
   "source": [
    "| Name        | Distribusi |\n",
    "|-------------|------------|\n",
    "| day         | Atribute   |\n",
    "| date        | Atribute   |\n",
    "| temp        | Atribute   |\n",
    "| Strong/Weak | Class      |"
   ]
  },
  {
   "cell_type": "markdown",
   "id": "8ca046e1",
   "metadata": {},
   "source": [
    "### Temuan : atribute yang digunakan hanya 4 dari 6 atribute yang ada dikarenakan pada room_id datanya sama dan pada id dan date terdapat kesamaan nilai korelasi sehingga yang dipilih hanya salah satu"
   ]
  },
  {
   "cell_type": "markdown",
   "id": "5dfcbd5f",
   "metadata": {},
   "source": [
    "## Bab 5 - Membersihkan Data"
   ]
  },
  {
   "cell_type": "code",
   "execution_count": 13,
   "id": "c89d5113",
   "metadata": {},
   "outputs": [],
   "source": [
    "dataset.replace(\"?\", np.nan, inplace= True) #membersihkan data yang masih ada tanda tanya"
   ]
  },
  {
   "cell_type": "code",
   "execution_count": 14,
   "id": "0ef94f35",
   "metadata": {},
   "outputs": [
    {
     "data": {
      "text/html": [
       "<div>\n",
       "<style scoped>\n",
       "    .dataframe tbody tr th:only-of-type {\n",
       "        vertical-align: middle;\n",
       "    }\n",
       "\n",
       "    .dataframe tbody tr th {\n",
       "        vertical-align: top;\n",
       "    }\n",
       "\n",
       "    .dataframe thead th {\n",
       "        text-align: right;\n",
       "    }\n",
       "</style>\n",
       "<table border=\"1\" class=\"dataframe\">\n",
       "  <thead>\n",
       "    <tr style=\"text-align: right;\">\n",
       "      <th></th>\n",
       "      <th>id</th>\n",
       "      <th>room_id/id</th>\n",
       "      <th>day</th>\n",
       "      <th>date</th>\n",
       "      <th>temp</th>\n",
       "      <th>Strong/Weak</th>\n",
       "    </tr>\n",
       "  </thead>\n",
       "  <tbody>\n",
       "    <tr>\n",
       "      <th>0</th>\n",
       "      <td>5200</td>\n",
       "      <td>0</td>\n",
       "      <td>3</td>\n",
       "      <td>4</td>\n",
       "      <td>29</td>\n",
       "      <td>1</td>\n",
       "    </tr>\n",
       "    <tr>\n",
       "      <th>1</th>\n",
       "      <td>5199</td>\n",
       "      <td>0</td>\n",
       "      <td>3</td>\n",
       "      <td>4</td>\n",
       "      <td>29</td>\n",
       "      <td>1</td>\n",
       "    </tr>\n",
       "    <tr>\n",
       "      <th>2</th>\n",
       "      <td>5197</td>\n",
       "      <td>0</td>\n",
       "      <td>3</td>\n",
       "      <td>4</td>\n",
       "      <td>41</td>\n",
       "      <td>0</td>\n",
       "    </tr>\n",
       "    <tr>\n",
       "      <th>3</th>\n",
       "      <td>5198</td>\n",
       "      <td>0</td>\n",
       "      <td>3</td>\n",
       "      <td>4</td>\n",
       "      <td>41</td>\n",
       "      <td>0</td>\n",
       "    </tr>\n",
       "    <tr>\n",
       "      <th>4</th>\n",
       "      <td>5196</td>\n",
       "      <td>0</td>\n",
       "      <td>3</td>\n",
       "      <td>4</td>\n",
       "      <td>31</td>\n",
       "      <td>1</td>\n",
       "    </tr>\n",
       "  </tbody>\n",
       "</table>\n",
       "</div>"
      ],
      "text/plain": [
       "     id  room_id/id  day  date  temp  Strong/Weak\n",
       "0  5200           0    3     4    29            1\n",
       "1  5199           0    3     4    29            1\n",
       "2  5197           0    3     4    41            0\n",
       "3  5198           0    3     4    41            0\n",
       "4  5196           0    3     4    31            1"
      ]
     },
     "execution_count": 14,
     "metadata": {},
     "output_type": "execute_result"
    }
   ],
   "source": [
    "dataset.head()"
   ]
  },
  {
   "cell_type": "code",
   "execution_count": 15,
   "id": "d121f9da",
   "metadata": {},
   "outputs": [
    {
     "data": {
      "text/html": [
       "<div>\n",
       "<style scoped>\n",
       "    .dataframe tbody tr th:only-of-type {\n",
       "        vertical-align: middle;\n",
       "    }\n",
       "\n",
       "    .dataframe tbody tr th {\n",
       "        vertical-align: top;\n",
       "    }\n",
       "\n",
       "    .dataframe thead th {\n",
       "        text-align: right;\n",
       "    }\n",
       "</style>\n",
       "<table border=\"1\" class=\"dataframe\">\n",
       "  <thead>\n",
       "    <tr style=\"text-align: right;\">\n",
       "      <th></th>\n",
       "      <th>id</th>\n",
       "      <th>room_id/id</th>\n",
       "      <th>day</th>\n",
       "      <th>date</th>\n",
       "      <th>temp</th>\n",
       "      <th>Strong/Weak</th>\n",
       "    </tr>\n",
       "  </thead>\n",
       "  <tbody>\n",
       "    <tr>\n",
       "      <th>5197</th>\n",
       "      <td>4</td>\n",
       "      <td>0</td>\n",
       "      <td>4</td>\n",
       "      <td>0</td>\n",
       "      <td>35</td>\n",
       "      <td>0</td>\n",
       "    </tr>\n",
       "    <tr>\n",
       "      <th>5198</th>\n",
       "      <td>2</td>\n",
       "      <td>0</td>\n",
       "      <td>4</td>\n",
       "      <td>0</td>\n",
       "      <td>36</td>\n",
       "      <td>0</td>\n",
       "    </tr>\n",
       "    <tr>\n",
       "      <th>5199</th>\n",
       "      <td>3</td>\n",
       "      <td>0</td>\n",
       "      <td>4</td>\n",
       "      <td>0</td>\n",
       "      <td>36</td>\n",
       "      <td>0</td>\n",
       "    </tr>\n",
       "    <tr>\n",
       "      <th>5200</th>\n",
       "      <td>1</td>\n",
       "      <td>0</td>\n",
       "      <td>4</td>\n",
       "      <td>0</td>\n",
       "      <td>36</td>\n",
       "      <td>0</td>\n",
       "    </tr>\n",
       "    <tr>\n",
       "      <th>5201</th>\n",
       "      <td>0</td>\n",
       "      <td>0</td>\n",
       "      <td>4</td>\n",
       "      <td>0</td>\n",
       "      <td>36</td>\n",
       "      <td>0</td>\n",
       "    </tr>\n",
       "  </tbody>\n",
       "</table>\n",
       "</div>"
      ],
      "text/plain": [
       "      id  room_id/id  day  date  temp  Strong/Weak\n",
       "5197   4           0    4     0    35            0\n",
       "5198   2           0    4     0    36            0\n",
       "5199   3           0    4     0    36            0\n",
       "5200   1           0    4     0    36            0\n",
       "5201   0           0    4     0    36            0"
      ]
     },
     "execution_count": 15,
     "metadata": {},
     "output_type": "execute_result"
    }
   ],
   "source": [
    "dataset.tail()"
   ]
  },
  {
   "cell_type": "code",
   "execution_count": 16,
   "id": "94b7bce4",
   "metadata": {},
   "outputs": [
    {
     "name": "stdout",
     "output_type": "stream",
     "text": [
      "id : Tidak ada data kategorikal\n",
      "room_id/id : Tidak ada data kategorikal\n",
      "day : Tidak ada data kategorikal\n",
      "date : Tidak ada data kategorikal\n",
      "temp : Tidak ada data kategorikal\n",
      "Strong/Weak : Tidak ada data kategorikal\n"
     ]
    }
   ],
   "source": [
    "categorical_col = []\n",
    "for column in dataset.columns:\n",
    "    if dataset[column].dtype == object and len(dataset[column].unique()) <= 50: #mengecek level/isi data kolom (bisa object, int, dan tipe data lainnya)\n",
    "        categorical_col.append(column)\n",
    "        print(f\"{column} : {dataset[column].unique()}\")\n",
    "        print(\"====================================\")\n",
    "    else :\n",
    "        print(f\"{column} : Tidak ada data kategorikal\")"
   ]
  },
  {
   "cell_type": "code",
   "execution_count": 17,
   "id": "2a3f07ba",
   "metadata": {},
   "outputs": [
    {
     "data": {
      "text/plain": [
       "False"
      ]
     },
     "execution_count": 17,
     "metadata": {},
     "output_type": "execute_result"
    }
   ],
   "source": [
    "dataset.isnull().values.any() #Jika True artinya ada data yg hilang"
   ]
  },
  {
   "cell_type": "code",
   "execution_count": 18,
   "id": "e34ceee8",
   "metadata": {},
   "outputs": [
    {
     "data": {
      "text/plain": [
       "Index([], dtype='object')"
      ]
     },
     "execution_count": 18,
     "metadata": {},
     "output_type": "execute_result"
    }
   ],
   "source": [
    "dataset.loc[:, dataset.isnull().any()].columns #Feature yg terdiri data hilang"
   ]
  },
  {
   "cell_type": "code",
   "execution_count": 19,
   "id": "3e82bbf6",
   "metadata": {},
   "outputs": [
    {
     "name": "stdout",
     "output_type": "stream",
     "text": [
      "<class 'pandas.core.frame.DataFrame'>\n",
      "RangeIndex: 5202 entries, 0 to 5201\n",
      "Data columns (total 6 columns):\n",
      " #   Column       Non-Null Count  Dtype\n",
      "---  ------       --------------  -----\n",
      " 0   id           5202 non-null   int32\n",
      " 1   room_id/id   5202 non-null   int32\n",
      " 2   day          5202 non-null   int32\n",
      " 3   date         5202 non-null   int32\n",
      " 4   temp         5202 non-null   int64\n",
      " 5   Strong/Weak  5202 non-null   int32\n",
      "dtypes: int32(5), int64(1)\n",
      "memory usage: 142.4 KB\n"
     ]
    }
   ],
   "source": [
    "dataset.info()"
   ]
  },
  {
   "cell_type": "code",
   "execution_count": 20,
   "id": "eadf0a8e",
   "metadata": {},
   "outputs": [
    {
     "name": "stdout",
     "output_type": "stream",
     "text": [
      "Tidak ada kolom dengan data yang hilang dalam DataFrame.\n"
     ]
    }
   ],
   "source": [
    "missingdata_df = dataset.columns[dataset.isnull().any()].tolist()\n",
    "if missingdata_df:\n",
    "    msno.matrix(dataset[missingdata_df])\n",
    "else:\n",
    "    print(\"Tidak ada kolom dengan data yang hilang dalam DataFrame.\")"
   ]
  },
  {
   "cell_type": "markdown",
   "id": "32c2ef2e",
   "metadata": {},
   "source": [
    "## BAB 6 - Mengkontruksi Data"
   ]
  },
  {
   "cell_type": "code",
   "execution_count": 21,
   "id": "88bf8e2a",
   "metadata": {},
   "outputs": [
    {
     "name": "stdout",
     "output_type": "stream",
     "text": [
      "<class 'pandas.core.frame.DataFrame'>\n",
      "RangeIndex: 5202 entries, 0 to 5201\n",
      "Data columns (total 6 columns):\n",
      " #   Column       Non-Null Count  Dtype\n",
      "---  ------       --------------  -----\n",
      " 0   id           5202 non-null   int32\n",
      " 1   room_id/id   5202 non-null   int32\n",
      " 2   day          5202 non-null   int32\n",
      " 3   date         5202 non-null   int32\n",
      " 4   temp         5202 non-null   int64\n",
      " 5   Strong/Weak  5202 non-null   int32\n",
      "dtypes: int32(5), int64(1)\n",
      "memory usage: 142.4 KB\n"
     ]
    }
   ],
   "source": [
    "dataset.info()"
   ]
  },
  {
   "cell_type": "markdown",
   "id": "684bfd61",
   "metadata": {},
   "source": [
    "#### Temuan : sudah tidak ada tipe data kategorikal/ object"
   ]
  },
  {
   "cell_type": "markdown",
   "id": "69c0ef7e",
   "metadata": {},
   "source": [
    "### Menghapus Nilai Konstan"
   ]
  },
  {
   "cell_type": "code",
   "execution_count": 22,
   "id": "ef7325c9",
   "metadata": {},
   "outputs": [],
   "source": [
    "dataset = dataset.loc[:,dataset.apply(pd.Series.nunique) != 1]"
   ]
  },
  {
   "cell_type": "code",
   "execution_count": 23,
   "id": "7a76739d",
   "metadata": {},
   "outputs": [
    {
     "name": "stdout",
     "output_type": "stream",
     "text": [
      "<class 'pandas.core.frame.DataFrame'>\n",
      "RangeIndex: 5202 entries, 0 to 5201\n",
      "Data columns (total 5 columns):\n",
      " #   Column       Non-Null Count  Dtype\n",
      "---  ------       --------------  -----\n",
      " 0   id           5202 non-null   int32\n",
      " 1   day          5202 non-null   int32\n",
      " 2   date         5202 non-null   int32\n",
      " 3   temp         5202 non-null   int64\n",
      " 4   Strong/Weak  5202 non-null   int32\n",
      "dtypes: int32(4), int64(1)\n",
      "memory usage: 122.0 KB\n"
     ]
    }
   ],
   "source": [
    "dataset.info()"
   ]
  },
  {
   "cell_type": "markdown",
   "id": "b8521f4e",
   "metadata": {},
   "source": [
    "#### Temuan : terdapat data yang konstan ya itu pada kolom Room_id/id"
   ]
  },
  {
   "cell_type": "markdown",
   "id": "fd184e1d",
   "metadata": {},
   "source": [
    "### Cek Korelasi Tahap 2"
   ]
  },
  {
   "cell_type": "code",
   "execution_count": 24,
   "id": "6e892163",
   "metadata": {},
   "outputs": [
    {
     "data": {
      "image/png": "[encoded data removed]",
      "text/plain": [
       "<Figure size 1900x1900 with 2 Axes>"
      ]
     },
     "metadata": {},
     "output_type": "display_data"
    }
   ],
   "source": [
    "# Correlation Heatmap\n",
    "correlation = dataset.corr()\n",
    "plt.subplots(figsize = (19,19))\n",
    "sns.heatmap(correlation.round(2),\n",
    "            annot = True,\n",
    "            vmax = 1,\n",
    "            square = True,\n",
    "            cmap = 'RdYlGn_r')\n",
    "plt.show()"
   ]
  },
  {
   "cell_type": "markdown",
   "id": "23dece63",
   "metadata": {},
   "source": [
    "#### temuan : kolom id dan date harus dipilih salah satu "
   ]
  },
  {
   "cell_type": "code",
   "execution_count": 25,
   "id": "6d8485be",
   "metadata": {},
   "outputs": [
    {
     "name": "stderr",
     "output_type": "stream",
     "text": [
      "C:\\Users\\NIAR\\AppData\\Local\\Temp\\ipykernel_4604\\24133069.py:1: SettingWithCopyWarning: \n",
      "A value is trying to be set on a copy of a slice from a DataFrame\n",
      "\n",
      "See the caveats in the documentation: https://pandas.pydata.org/pandas-docs/stable/user_guide/indexing.html#returning-a-view-versus-a-copy\n",
      "  dataset.drop(['id'], axis=\"columns\", inplace=True) #menghapus atribut id\n"
     ]
    }
   ],
   "source": [
    "dataset.drop(['id'], axis=\"columns\", inplace=True) #menghapus atribut id"
   ]
  },
  {
   "cell_type": "code",
   "execution_count": 26,
   "id": "d9668310",
   "metadata": {},
   "outputs": [
    {
     "name": "stdout",
     "output_type": "stream",
     "text": [
      "<class 'pandas.core.frame.DataFrame'>\n",
      "RangeIndex: 5202 entries, 0 to 5201\n",
      "Data columns (total 4 columns):\n",
      " #   Column       Non-Null Count  Dtype\n",
      "---  ------       --------------  -----\n",
      " 0   day          5202 non-null   int32\n",
      " 1   date         5202 non-null   int32\n",
      " 2   temp         5202 non-null   int64\n",
      " 3   Strong/Weak  5202 non-null   int32\n",
      "dtypes: int32(3), int64(1)\n",
      "memory usage: 101.7 KB\n"
     ]
    }
   ],
   "source": [
    "dataset.info() #cek kembali dataset feature yg sudah di pilih"
   ]
  },
  {
   "cell_type": "code",
   "execution_count": 27,
   "id": "4c13c65e",
   "metadata": {},
   "outputs": [
    {
     "data": {
      "image/png": "[encoded data removed]",
      "text/plain": [
       "<Figure size 2000x2000 with 30 Axes>"
      ]
     },
     "metadata": {},
     "output_type": "display_data"
    }
   ],
   "source": [
    "dataset.plot(kind='box',subplots=True,layout=(5,6), sharex=False,figsize = (20,20),\n",
    "                           title='figure 1: Data distributions of all features')\n",
    "plt.show()"
   ]
  },
  {
   "cell_type": "markdown",
   "id": "bce1c21f",
   "metadata": {},
   "source": [
    "#### Temuan : tidak terdapat outlier pada data"
   ]
  },
  {
   "cell_type": "markdown",
   "id": "5153e15b",
   "metadata": {},
   "source": [
    "## BAB 7 - Menentukan Label Data"
   ]
  },
  {
   "cell_type": "code",
   "execution_count": 28,
   "id": "c466f71e",
   "metadata": {},
   "outputs": [],
   "source": [
    "y = dataset['Strong/Weak']"
   ]
  },
  {
   "cell_type": "code",
   "execution_count": 29,
   "id": "211619fd",
   "metadata": {},
   "outputs": [
    {
     "data": {
      "text/plain": [
       "0       1\n",
       "1       1\n",
       "2       0\n",
       "3       0\n",
       "4       1\n",
       "       ..\n",
       "5197    0\n",
       "5198    0\n",
       "5199    0\n",
       "5200    0\n",
       "5201    0\n",
       "Name: Strong/Weak, Length: 5202, dtype: int32"
      ]
     },
     "execution_count": 29,
     "metadata": {},
     "output_type": "execute_result"
    }
   ],
   "source": [
    "y"
   ]
  },
  {
   "cell_type": "code",
   "execution_count": 30,
   "id": "51dce158",
   "metadata": {},
   "outputs": [],
   "source": [
    "x=dataset.drop(['Strong/Weak'], axis=1)"
   ]
  },
  {
   "cell_type": "code",
   "execution_count": 31,
   "id": "b50a7348",
   "metadata": {},
   "outputs": [
    {
     "data": {
      "text/plain": [
       "(5202, 3)"
      ]
     },
     "execution_count": 31,
     "metadata": {},
     "output_type": "execute_result"
    }
   ],
   "source": [
    "x.shape"
   ]
  },
  {
   "cell_type": "code",
   "execution_count": 32,
   "id": "59dc385d",
   "metadata": {},
   "outputs": [
    {
     "data": {
      "text/html": [
       "<div>\n",
       "<style scoped>\n",
       "    .dataframe tbody tr th:only-of-type {\n",
       "        vertical-align: middle;\n",
       "    }\n",
       "\n",
       "    .dataframe tbody tr th {\n",
       "        vertical-align: top;\n",
       "    }\n",
       "\n",
       "    .dataframe thead th {\n",
       "        text-align: right;\n",
       "    }\n",
       "</style>\n",
       "<table border=\"1\" class=\"dataframe\">\n",
       "  <thead>\n",
       "    <tr style=\"text-align: right;\">\n",
       "      <th></th>\n",
       "      <th>day</th>\n",
       "      <th>date</th>\n",
       "      <th>temp</th>\n",
       "    </tr>\n",
       "  </thead>\n",
       "  <tbody>\n",
       "    <tr>\n",
       "      <th>0</th>\n",
       "      <td>3</td>\n",
       "      <td>4</td>\n",
       "      <td>29</td>\n",
       "    </tr>\n",
       "    <tr>\n",
       "      <th>1</th>\n",
       "      <td>3</td>\n",
       "      <td>4</td>\n",
       "      <td>29</td>\n",
       "    </tr>\n",
       "    <tr>\n",
       "      <th>2</th>\n",
       "      <td>3</td>\n",
       "      <td>4</td>\n",
       "      <td>41</td>\n",
       "    </tr>\n",
       "    <tr>\n",
       "      <th>3</th>\n",
       "      <td>3</td>\n",
       "      <td>4</td>\n",
       "      <td>41</td>\n",
       "    </tr>\n",
       "    <tr>\n",
       "      <th>4</th>\n",
       "      <td>3</td>\n",
       "      <td>4</td>\n",
       "      <td>31</td>\n",
       "    </tr>\n",
       "    <tr>\n",
       "      <th>...</th>\n",
       "      <td>...</td>\n",
       "      <td>...</td>\n",
       "      <td>...</td>\n",
       "    </tr>\n",
       "    <tr>\n",
       "      <th>5197</th>\n",
       "      <td>4</td>\n",
       "      <td>0</td>\n",
       "      <td>35</td>\n",
       "    </tr>\n",
       "    <tr>\n",
       "      <th>5198</th>\n",
       "      <td>4</td>\n",
       "      <td>0</td>\n",
       "      <td>36</td>\n",
       "    </tr>\n",
       "    <tr>\n",
       "      <th>5199</th>\n",
       "      <td>4</td>\n",
       "      <td>0</td>\n",
       "      <td>36</td>\n",
       "    </tr>\n",
       "    <tr>\n",
       "      <th>5200</th>\n",
       "      <td>4</td>\n",
       "      <td>0</td>\n",
       "      <td>36</td>\n",
       "    </tr>\n",
       "    <tr>\n",
       "      <th>5201</th>\n",
       "      <td>4</td>\n",
       "      <td>0</td>\n",
       "      <td>36</td>\n",
       "    </tr>\n",
       "  </tbody>\n",
       "</table>\n",
       "<p>5202 rows × 3 columns</p>\n",
       "</div>"
      ],
      "text/plain": [
       "      day  date  temp\n",
       "0       3     4    29\n",
       "1       3     4    29\n",
       "2       3     4    41\n",
       "3       3     4    41\n",
       "4       3     4    31\n",
       "...   ...   ...   ...\n",
       "5197    4     0    35\n",
       "5198    4     0    36\n",
       "5199    4     0    36\n",
       "5200    4     0    36\n",
       "5201    4     0    36\n",
       "\n",
       "[5202 rows x 3 columns]"
      ]
     },
     "execution_count": 32,
     "metadata": {},
     "output_type": "execute_result"
    }
   ],
   "source": [
    "x"
   ]
  },
  {
   "cell_type": "markdown",
   "id": "1e5e22ad",
   "metadata": {},
   "source": [
    "## BAB 8- Membangun Model"
   ]
  },
  {
   "cell_type": "code",
   "execution_count": 33,
   "id": "33a11628",
   "metadata": {},
   "outputs": [],
   "source": [
    "#Split Data\n",
    "from sklearn.model_selection import train_test_split\n",
    "\n",
    "x_train, x_test, y_train, y_test = train_test_split(x,y, test_size=0.3, random_state=0)"
   ]
  },
  {
   "cell_type": "code",
   "execution_count": 34,
   "id": "9d2e487d",
   "metadata": {},
   "outputs": [
    {
     "data": {
      "text/html": [
       "<style>#sk-container-id-1 {color: black;}#sk-container-id-1 pre{padding: 0;}#sk-container-id-1 div.sk-toggleable {background-color: white;}#sk-container-id-1 label.sk-toggleable__label {cursor: pointer;display: block;width: 100%;margin-bottom: 0;padding: 0.3em;box-sizing: border-box;text-align: center;}#sk-container-id-1 label.sk-toggleable__label-arrow:before {content: \"▸\";float: left;margin-right: 0.25em;color: #696969;}#sk-container-id-1 label.sk-toggleable__label-arrow:hover:before {color: black;}#sk-container-id-1 div.sk-estimator:hover label.sk-toggleable__label-arrow:before {color: black;}#sk-container-id-1 div.sk-toggleable__content {max-height: 0;max-width: 0;overflow: hidden;text-align: left;background-color: #f0f8ff;}#sk-container-id-1 div.sk-toggleable__content pre {margin: 0.2em;color: black;border-radius: 0.25em;background-color: #f0f8ff;}#sk-container-id-1 input.sk-toggleable__control:checked~div.sk-toggleable__content {max-height: 200px;max-width: 100%;overflow: auto;}#sk-container-id-1 input.sk-toggleable__control:checked~label.sk-toggleable__label-arrow:before {content: \"▾\";}#sk-container-id-1 div.sk-estimator input.sk-toggleable__control:checked~label.sk-toggleable__label {background-color: #d4ebff;}#sk-container-id-1 div.sk-label input.sk-toggleable__control:checked~label.sk-toggleable__label {background-color: #d4ebff;}#sk-container-id-1 input.sk-hidden--visually {border: 0;clip: rect(1px 1px 1px 1px);clip: rect(1px, 1px, 1px, 1px);height: 1px;margin: -1px;overflow: hidden;padding: 0;position: absolute;width: 1px;}#sk-container-id-1 div.sk-estimator {font-family: monospace;background-color: #f0f8ff;border: 1px dotted black;border-radius: 0.25em;box-sizing: border-box;margin-bottom: 0.5em;}#sk-container-id-1 div.sk-estimator:hover {background-color: #d4ebff;}#sk-container-id-1 div.sk-parallel-item::after {content: \"\";width: 100%;border-bottom: 1px solid gray;flex-grow: 1;}#sk-container-id-1 div.sk-label:hover label.sk-toggleable__label {background-color: #d4ebff;}#sk-container-id-1 div.sk-serial::before {content: \"\";position: absolute;border-left: 1px solid gray;box-sizing: border-box;top: 0;bottom: 0;left: 50%;z-index: 0;}#sk-container-id-1 div.sk-serial {display: flex;flex-direction: column;align-items: center;background-color: white;padding-right: 0.2em;padding-left: 0.2em;position: relative;}#sk-container-id-1 div.sk-item {position: relative;z-index: 1;}#sk-container-id-1 div.sk-parallel {display: flex;align-items: stretch;justify-content: center;background-color: white;position: relative;}#sk-container-id-1 div.sk-item::before, #sk-container-id-1 div.sk-parallel-item::before {content: \"\";position: absolute;border-left: 1px solid gray;box-sizing: border-box;top: 0;bottom: 0;left: 50%;z-index: -1;}#sk-container-id-1 div.sk-parallel-item {display: flex;flex-direction: column;z-index: 1;position: relative;background-color: white;}#sk-container-id-1 div.sk-parallel-item:first-child::after {align-self: flex-end;width: 50%;}#sk-container-id-1 div.sk-parallel-item:last-child::after {align-self: flex-start;width: 50%;}#sk-container-id-1 div.sk-parallel-item:only-child::after {width: 0;}#sk-container-id-1 div.sk-dashed-wrapped {border: 1px dashed gray;margin: 0 0.4em 0.5em 0.4em;box-sizing: border-box;padding-bottom: 0.4em;background-color: white;}#sk-container-id-1 div.sk-label label {font-family: monospace;font-weight: bold;display: inline-block;line-height: 1.2em;}#sk-container-id-1 div.sk-label-container {text-align: center;}#sk-container-id-1 div.sk-container {/* jupyter's `normalize.less` sets `[hidden] { display: none; }` but bootstrap.min.css set `[hidden] { display: none !important; }` so we also need the `!important` here to be able to override the default hidden behavior on the sphinx rendered scikit-learn.org. See: https://github.com/scikit-learn/scikit-learn/issues/21755 */display: inline-block !important;position: relative;}#sk-container-id-1 div.sk-text-repr-fallback {display: none;}</style><div id=\"sk-container-id-1\" class=\"sk-top-container\"><div class=\"sk-text-repr-fallback\"><pre>GaussianNB()</pre><b>In a Jupyter environment, please rerun this cell to show the HTML representation or trust the notebook. <br />On GitHub, the HTML representation is unable to render, please try loading this page with nbviewer.org.</b></div><div class=\"sk-container\" hidden><div class=\"sk-item\"><div class=\"sk-estimator sk-toggleable\"><input class=\"sk-toggleable__control sk-hidden--visually\" id=\"sk-estimator-id-1\" type=\"checkbox\" checked><label for=\"sk-estimator-id-1\" class=\"sk-toggleable__label sk-toggleable__label-arrow\">GaussianNB</label><div class=\"sk-toggleable__content\"><pre>GaussianNB()</pre></div></div></div></div></div>"
      ],
      "text/plain": [
       "GaussianNB()"
      ]
     },
     "execution_count": 34,
     "metadata": {},
     "output_type": "execute_result"
    }
   ],
   "source": [
    "# Model Naive Bayes\n",
    "from sklearn.naive_bayes import GaussianNB\n",
    "from sklearn.metrics import accuracy_score\n",
    "\n",
    "model = GaussianNB()\n",
    "model.fit(x_train, y_train)"
   ]
  },
  {
   "cell_type": "code",
   "execution_count": 35,
   "id": "4e870d67",
   "metadata": {},
   "outputs": [
    {
     "data": {
      "text/plain": [
       "array([1, 1, 0, ..., 1, 0, 1])"
      ]
     },
     "execution_count": 35,
     "metadata": {},
     "output_type": "execute_result"
    }
   ],
   "source": [
    "y_pred = model.predict(x_test)\n",
    "y_pred"
   ]
  },
  {
   "cell_type": "code",
   "execution_count": 36,
   "id": "561e9fd1",
   "metadata": {},
   "outputs": [
    {
     "name": "stdout",
     "output_type": "stream",
     "text": [
      "Naive Bayes Accuracy:  0.9814221652786675\n"
     ]
    }
   ],
   "source": [
    "# Model Evaluasi\n",
    "from sklearn.metrics import accuracy_score\n",
    "print('Naive Bayes Accuracy: ',accuracy_score(y_test, y_pred))"
   ]
  },
  {
   "cell_type": "code",
   "execution_count": 37,
   "id": "a93efdfd",
   "metadata": {},
   "outputs": [
    {
     "name": "stdout",
     "output_type": "stream",
     "text": [
      "Data ini masuk kategori :  [1]\n"
     ]
    },
    {
     "name": "stderr",
     "output_type": "stream",
     "text": [
      "C:\\a-dev\\env\\lib\\site-packages\\sklearn\\base.py:465: UserWarning: X does not have valid feature names, but GaussianNB was fitted with feature names\n",
      "  warnings.warn(\n"
     ]
    }
   ],
   "source": [
    "#Menginput data baru dan mengklasifikasikannya \n",
    "# Jika output = [0] maka termasuk kategori 'Tepat Waktu'\n",
    "# Jika output = [1] maka termasuk kategori 'Tidak Tepat Waktu'\n",
    "import numpy as np\n",
    "\n",
    "x_new = np.array([[2,3,30.5]])\n",
    "\n",
    "prediksi = model.predict(x_new)\n",
    "\n",
    "print(\"Data ini masuk kategori : \",prediksi)"
   ]
  },
  {
   "cell_type": "code",
   "execution_count": null,
   "id": "3383f710",
   "metadata": {},
   "outputs": [],
   "source": []
  }
 ],
 "metadata": {
  "kernelspec": {
   "display_name": "Python 3 (ipykernel)",
   "language": "python",
   "name": "python3"
  },
  "language_info": {
   "codemirror_mode": {
    "name": "ipython",
    "version": 3
   },
   "file_extension": ".py",
   "mimetype": "text/x-python",
   "name": "python",
   "nbconvert_exporter": "python",
   "pygments_lexer": "ipython3",
   "version": "3.10.11"
  }
 },
 "nbformat": 4,
 "nbformat_minor": 5
}
